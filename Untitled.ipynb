{
 "cells": [
  {
   "cell_type": "code",
   "execution_count": 10,
   "id": "dbf40d3c",
   "metadata": {},
   "outputs": [],
   "source": [
    "import os \n",
    "os.environ.setdefault(\"DJANGO_SETTINGS_MODULE\", \"settings\")\n",
    "os.environ[\"DJANGO_ALLOW_ASYNC_UNSAFE\"] = \"true\""
   ]
  },
  {
   "cell_type": "code",
   "execution_count": 65,
   "id": "04ff74c9",
   "metadata": {},
   "outputs": [],
   "source": [
    "import pandas as pd\n",
    "import matplotlib.pyplot as plt\n",
    "\n",
    "from predict.models import Selling, Stock"
   ]
  },
  {
   "cell_type": "code",
   "execution_count": 118,
   "id": "1dac3371",
   "metadata": {},
   "outputs": [],
   "source": [
    "selling_df = pd.DataFrame(data=(\n",
    "    Selling.objects\n",
    "    .filter(date__range=('2017-01-02', '2017-02-02'))\n",
    "    .filter(shop_id=3)\n",
    "    .filter(product_id=44672)\n",
    "    .values('qty', 'product_id', 'date')\n",
    ")).rename(columns={\"qty\":\"sale_qty\"})\n",
    "stock_df = pd.DataFrame(data=(\n",
    "    Stock.objects\n",
    "    .filter(dt__range=('2017-01-02', '2017-02-02'))\n",
    "    .filter(shop_id=3)\n",
    "    .filter(product_id=44672)\n",
    "    .values('qty', 'product_id', 'dt')\n",
    ")).rename(columns={\"dt\": \"date\", \"qty\":\"stock_qty\"})"
   ]
  },
  {
   "cell_type": "code",
   "execution_count": 119,
   "id": "af7fa8d2",
   "metadata": {},
   "outputs": [],
   "source": [
    "# df = selling_df.set_index('date').join(stock_df.set_index('date'), lsuffix='_sale', rsuffix='_stock')\n",
    "df = pd.merge(selling_df, stock_df,  how='left', left_on=['date','product_id'], right_on = ['date','product_id'])"
   ]
  },
  {
   "cell_type": "code",
   "execution_count": 120,
   "id": "85aab309",
   "metadata": {},
   "outputs": [
    {
     "data": {
      "text/html": [
       "<div>\n",
       "<style scoped>\n",
       "    .dataframe tbody tr th:only-of-type {\n",
       "        vertical-align: middle;\n",
       "    }\n",
       "\n",
       "    .dataframe tbody tr th {\n",
       "        vertical-align: top;\n",
       "    }\n",
       "\n",
       "    .dataframe thead th {\n",
       "        text-align: right;\n",
       "    }\n",
       "</style>\n",
       "<table border=\"1\" class=\"dataframe\">\n",
       "  <thead>\n",
       "    <tr style=\"text-align: right;\">\n",
       "      <th></th>\n",
       "      <th>sale_qty</th>\n",
       "      <th>product_id</th>\n",
       "      <th>stock_qty</th>\n",
       "    </tr>\n",
       "    <tr>\n",
       "      <th>date</th>\n",
       "      <th></th>\n",
       "      <th></th>\n",
       "      <th></th>\n",
       "    </tr>\n",
       "  </thead>\n",
       "  <tbody>\n",
       "    <tr>\n",
       "      <th>2017-01-18</th>\n",
       "      <td>1.0000</td>\n",
       "      <td>44672</td>\n",
       "      <td>24.0000</td>\n",
       "    </tr>\n",
       "    <tr>\n",
       "      <th>2017-01-18</th>\n",
       "      <td>1.0000</td>\n",
       "      <td>44672</td>\n",
       "      <td>24.0000</td>\n",
       "    </tr>\n",
       "    <tr>\n",
       "      <th>2017-01-18</th>\n",
       "      <td>1.0000</td>\n",
       "      <td>44672</td>\n",
       "      <td>24.0000</td>\n",
       "    </tr>\n",
       "    <tr>\n",
       "      <th>2017-01-18</th>\n",
       "      <td>1.0000</td>\n",
       "      <td>44672</td>\n",
       "      <td>24.0000</td>\n",
       "    </tr>\n",
       "    <tr>\n",
       "      <th>2017-01-18</th>\n",
       "      <td>1.0000</td>\n",
       "      <td>44672</td>\n",
       "      <td>24.0000</td>\n",
       "    </tr>\n",
       "    <tr>\n",
       "      <th>...</th>\n",
       "      <td>...</td>\n",
       "      <td>...</td>\n",
       "      <td>...</td>\n",
       "    </tr>\n",
       "    <tr>\n",
       "      <th>2017-02-02</th>\n",
       "      <td>1.0000</td>\n",
       "      <td>44672</td>\n",
       "      <td>15.0000</td>\n",
       "    </tr>\n",
       "    <tr>\n",
       "      <th>2017-02-02</th>\n",
       "      <td>1.0000</td>\n",
       "      <td>44672</td>\n",
       "      <td>15.0000</td>\n",
       "    </tr>\n",
       "    <tr>\n",
       "      <th>2017-02-02</th>\n",
       "      <td>1.0000</td>\n",
       "      <td>44672</td>\n",
       "      <td>15.0000</td>\n",
       "    </tr>\n",
       "    <tr>\n",
       "      <th>2017-02-02</th>\n",
       "      <td>1.0000</td>\n",
       "      <td>44672</td>\n",
       "      <td>15.0000</td>\n",
       "    </tr>\n",
       "    <tr>\n",
       "      <th>2017-02-02</th>\n",
       "      <td>1.0000</td>\n",
       "      <td>44672</td>\n",
       "      <td>15.0000</td>\n",
       "    </tr>\n",
       "  </tbody>\n",
       "</table>\n",
       "<p>110 rows × 3 columns</p>\n",
       "</div>"
      ],
      "text/plain": [
       "           sale_qty  product_id stock_qty\n",
       "date                                     \n",
       "2017-01-18   1.0000       44672   24.0000\n",
       "2017-01-18   1.0000       44672   24.0000\n",
       "2017-01-18   1.0000       44672   24.0000\n",
       "2017-01-18   1.0000       44672   24.0000\n",
       "2017-01-18   1.0000       44672   24.0000\n",
       "...             ...         ...       ...\n",
       "2017-02-02   1.0000       44672   15.0000\n",
       "2017-02-02   1.0000       44672   15.0000\n",
       "2017-02-02   1.0000       44672   15.0000\n",
       "2017-02-02   1.0000       44672   15.0000\n",
       "2017-02-02   1.0000       44672   15.0000\n",
       "\n",
       "[110 rows x 3 columns]"
      ]
     },
     "execution_count": 120,
     "metadata": {},
     "output_type": "execute_result"
    }
   ],
   "source": [
    "df['date'] = pd.to_datetime(df['date'])\n",
    "df = df.set_index('date')\n",
    "df"
   ]
  },
  {
   "cell_type": "code",
   "execution_count": 121,
   "id": "57a597a5",
   "metadata": {},
   "outputs": [],
   "source": [
    "y = df['sale_qty'].resample('D').min().fillna(0)\n",
    "y = y.astype('float64')"
   ]
  },
  {
   "cell_type": "code",
   "execution_count": 122,
   "id": "a885ffda",
   "metadata": {},
   "outputs": [
    {
     "data": {
      "image/png": "[encoded data removed]",
      "text/plain": [
       "<Figure size 432x288 with 1 Axes>"
      ]
     },
     "metadata": {
      "needs_background": "light"
     },
     "output_type": "display_data"
    }
   ],
   "source": [
    "y.plot()\n",
    "plt.show()"
   ]
  },
  {
   "cell_type": "code",
   "execution_count": 125,
   "id": "37c5026a",
   "metadata": {},
   "outputs": [
    {
     "data": {
      "image/png": "[encoded data removed]",
      "text/plain": [
       "<Figure size 432x288 with 1 Axes>"
      ]
     },
     "metadata": {
      "needs_background": "light"
     },
     "output_type": "display_data"
    }
   ],
   "source": [
    "y_p = df['stock_qty'].resample('D').min().fillna(0)\n",
    "y_p = y_p.astype('float64')\n",
    "y_p.plot()\n",
    "plt.show()"
   ]
  },
  {
   "cell_type": "code",
   "execution_count": 126,
   "id": "0eb32580",
   "metadata": {},
   "outputs": [
    {
     "data": {
      "text/plain": [
       "date\n",
       "2017-01-05    12.0\n",
       "2017-01-06    52.0\n",
       "2017-01-07    18.0\n",
       "2017-01-08     4.0\n",
       "2017-01-09    12.0\n",
       "2017-01-10    39.0\n",
       "2017-01-11    72.0\n",
       "2017-01-12    36.0\n",
       "2017-01-13    53.0\n",
       "2017-01-14    26.0\n",
       "2017-01-15    25.0\n",
       "2017-01-16     0.0\n",
       "2017-01-17    10.0\n",
       "2017-01-18    24.0\n",
       "2017-01-19    16.0\n",
       "2017-01-20    52.0\n",
       "2017-01-21     1.5\n",
       "2017-01-22     6.0\n",
       "2017-01-23    17.0\n",
       "2017-01-24    12.0\n",
       "2017-01-25    54.0\n",
       "2017-01-26    19.0\n",
       "2017-01-27    14.0\n",
       "2017-01-28    35.0\n",
       "2017-01-29    12.0\n",
       "2017-01-30    78.0\n",
       "2017-01-31     0.0\n",
       "2017-02-01     0.0\n",
       "2017-02-02    15.0\n",
       "Freq: D, Name: stock_qty, dtype: float64"
      ]
     },
     "execution_count": 126,
     "metadata": {},
     "output_type": "execute_result"
    }
   ],
   "source": [
    "y_p"
   ]
  },
  {
   "cell_type": "code",
   "execution_count": null,
   "id": "7778c822",
   "metadata": {},
   "outputs": [],
   "source": []
  }
 ],
 "metadata": {
  "kernelspec": {
   "display_name": "Django Shell-Plus",
   "language": "python",
   "name": "django_extensions"
  },
  "language_info": {
   "codemirror_mode": {
    "name": "ipython",
    "version": 3
   },
   "file_extension": ".py",
   "mimetype": "text/x-python",
   "name": "python",
   "nbconvert_exporter": "python",
   "pygments_lexer": "ipython3",
   "version": "3.9.0"
  }
 },
 "nbformat": 4,
 "nbformat_minor": 5
}
